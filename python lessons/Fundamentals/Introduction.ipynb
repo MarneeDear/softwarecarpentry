{
 "cells": [
  {
   "cell_type": "code",
   "execution_count": 1,
   "metadata": {
    "collapsed": true
   },
   "outputs": [],
   "source": [
    "# What is Python and why would I use it?"
   ]
  },
  {
   "cell_type": "code",
   "execution_count": 4,
   "metadata": {
    "collapsed": true
   },
   "outputs": [],
   "source": [
    "# Python is a programming language.  \n",
    "# A programming language is a set words you can put together to tell a computer to do something.\n",
    "# We like using Python Software Carpentry Workshops for lots of reasons\n",
    "# It is widely used in science\n",
    "# Has a huge supporting community so there are lots of ways to learn and get help\n",
    "# In my experience it is really nice to work with because it is easier to get started than other languages.  \n",
    "# like this Jupyter Notebook.  Not a lot of languages have this kind of thing.  It's great."
   ]
  },
  {
   "cell_type": "code",
   "execution_count": 6,
   "metadata": {
    "collapsed": true
   },
   "outputs": [],
   "source": [
    "# Even if you aren't using Python in your work, you can use Python to learn the fundamentals of programming that will apply\n",
    "# accross languages"
   ]
  },
  {
   "cell_type": "code",
   "execution_count": 8,
   "metadata": {
    "collapsed": true
   },
   "outputs": [],
   "source": [
    "# What are the fundamentals?"
   ]
  },
  {
   "cell_type": "code",
   "execution_count": 8,
   "metadata": {
    "collapsed": true
   },
   "outputs": [],
   "source": [
    "# VARIABLES\n",
    "# We store values inside variables\n",
    "# a variable can hold any kind of data type or structure\n",
    "# we can refer to variables in other parts of our programs"
   ]
  },
  {
   "cell_type": "code",
   "execution_count": 11,
   "metadata": {
    "collapsed": false
   },
   "outputs": [
    {
     "name": "stdout",
     "output_type": "stream",
     "text": [
      "change me to a number\n"
     ]
    }
   ],
   "source": [
    "example_variable = \"change me to a number\"\n",
    "# I can display what is inside example_variable by using \n",
    "# the print command lets us do this\n",
    "# try changing the value.  \n",
    "print (example_variable)"
   ]
  },
  {
   "cell_type": "code",
   "execution_count": 9,
   "metadata": {
    "collapsed": true
   },
   "outputs": [],
   "source": [
    "# DATA TYPES\n",
    "# characters and numbers\n",
    "# characters: '0' '3' ';' '?' 'x' 'y' 'z'\n",
    "# numbers (integers and decimals): 1 2 3 100 10000 10.0 56.9 -100 -3.765\n",
    "# booleans: True, False"
   ]
  },
  {
   "cell_type": "code",
   "execution_count": 25,
   "metadata": {
    "collapsed": true
   },
   "outputs": [],
   "source": [
    "# DATA STRUCTURES\n",
    "# strings, lists, dictionaries, and tuples\n"
   ]
  },
  {
   "cell_type": "code",
   "execution_count": 27,
   "metadata": {
    "collapsed": false
   },
   "outputs": [
    {
     "name": "stdout",
     "output_type": "stream",
     "text": [
      "The greeting is, Hello World!\n"
     ]
    }
   ],
   "source": [
    "# STRINGS are one or more characters stung togehter: \"Hello World!\"\n",
    "greeting = \"Hello World!\"\n",
    "print (\"The greeting is, %s\" % greeting)"
   ]
  },
  {
   "cell_type": "code",
   "execution_count": 3,
   "metadata": {
    "collapsed": false
   },
   "outputs": [
    {
     "name": "stdout",
     "output_type": "stream",
     "text": [
      "['a', 'b', 'c']\n",
      "[1, 2, 3, 4]\n",
      "The second value in the list is 2\n"
     ]
    }
   ],
   "source": [
    "# LISTS are collections of things in a list: \n",
    "\n",
    "list_of_characters  = ['a', 'b', 'c'] \n",
    "print (list_of_characters)\n",
    "\n",
    "list_of_numbers = [1, 2, 3, 4]\n",
    "print (list_of_numbers )\n",
    "\n",
    "# We can access any value in the list by it's position in the list.  This is called the index\n",
    "# Indexes start at 0\n",
    "print (\"The second value in the list is %d\" % list_of_numbers[1])"
   ]
  },
  {
   "cell_type": "code",
   "execution_count": 23,
   "metadata": {
    "collapsed": false
   },
   "outputs": [
    {
     "name": "stdout",
     "output_type": "stream",
     "text": [
      "The definition of aardvark is, The aardvark is a medium-sized, burrowing, nocturnal mammal native to Africa.\n",
      "The color at item 2 is green \n"
     ]
    }
   ],
   "source": [
    "# DICTIONARIES are collections of things that you can lookup like in a real dictionary:\n",
    "dictionary_of_definitions = {\"aardvark\" : \"The aardvark is a medium-sized, burrowing, nocturnal mammal native to Africa.\",\n",
    "                             \"boat\" : \"A boat is a thing that floats on water\"}\n",
    "\n",
    "# we can find the definition of aardvark by giving the dictionary the \"key\" to the definition we want.\n",
    "# In this case the key is the word we want to lookup\n",
    "print (\"The definition of aardvark is, %s\" % dictionary_of_definitions[\"aardvark\"]) \n",
    "\n",
    "dictionary_of_colors = {1 : \"purple\", 2 : \"green\", 3 : \"blue\"}\n",
    "# This sets up an association between numbers and colors.  You can do this for any pair or pairs of associations\n",
    "# Sometimes dictionaries are called \"associative arrays\" for this reason.\n",
    "# We call each association a \"key-value pair\".  \n",
    "# A dicitonary can be thought of as a list of associations known as key-value pairs\n",
    "\n",
    "# we can find the color associated with a number by asking the dictionary the number we want to lookup\n",
    "print (\"The color at item 2 is %s \" % dictionary_of_colors[2])\n",
    "\n",
    "# "
   ]
  },
  {
   "cell_type": "code",
   "execution_count": 3,
   "metadata": {
    "collapsed": false
   },
   "outputs": [
    {
     "name": "stdout",
     "output_type": "stream",
     "text": [
      "(3, 4)\n",
      "(1, 7, 38, 9, 0)\n",
      "('strawberry', 'vanilla', 'chocolate')\n",
      "['one']\n",
      "['one', 'two']\n"
     ]
    }
   ],
   "source": [
    "# TUPLES are like sets of values\n",
    "# an example is a set of x and y coordinates like this\n",
    "tuple_of_x_y_coordinates = (3, 4)\n",
    "print (tuple_of_x_y_coordinates)\n",
    "\n",
    "# tuples can have any number of values\n",
    "coordinates = (1, 7, 38, 9, 0)\n",
    "print (coordinates)\n",
    "icecream_flavors = (\"strawberry\", \"vanilla\", \"chocolate\")\n",
    "print (icecream_flavors)\n",
    "\n",
    "# you might be asking, what is the difference between a tuple and a list\n",
    "# Once you have created a list you can add more items to it\n",
    "# Once you have created a tuple, you cannot add more items to it\n",
    "\n",
    "# Let's start with an empty list\n",
    "add_things_list = []\n",
    "add_things_list.append(\"one\")\n",
    "print (add_things_list)\n",
    "add_things_list.append(\"two\")\n",
    "print (add_things_list)\n"
   ]
  },
  {
   "cell_type": "code",
   "execution_count": 1,
   "metadata": {
    "collapsed": true
   },
   "outputs": [],
   "source": [
    "# OK great.  Now what can we do with all of this?  \n",
    "# We can plug everything together with a bit of logic and python language\n",
    "# and make a program that can do things like\n",
    "# process data\n",
    "# parse files\n",
    "# data analysis"
   ]
  },
  {
   "cell_type": "code",
   "execution_count": 5,
   "metadata": {
    "collapsed": false
   },
   "outputs": [],
   "source": [
    "# What kind of logic are we talking about?\n",
    "# We are talking about something colled a \"logical structure\"\n",
    "# there are two logical structures we will use in Python\n",
    "# conditionals and loops"
   ]
  },
  {
   "cell_type": "code",
   "execution_count": 14,
   "metadata": {
    "collapsed": false
   },
   "outputs": [
    {
     "name": "stdout",
     "output_type": "stream",
     "text": [
      "Have a nice day.\n"
     ]
    }
   ],
   "source": [
    "# Conditionals are how we make a decision in the program\n",
    "# we do this with something called an \"if statement\"\n",
    "# Here is an example\n",
    "# try changing it_is_daytime from True and False and running this cell\n",
    "\n",
    "it_is_daytime = True # this is the variable that holds the current condition of it_is_daytime which is True or False \n",
    "\n",
    "if it_is_daytime:\n",
    "    print (\"Have a nice day.\")\n",
    "else:\n",
    "    print (\"Have a nice night.\")"
   ]
  },
  {
   "cell_type": "code",
   "execution_count": 18,
   "metadata": {
    "collapsed": false
   },
   "outputs": [
    {
     "name": "stdout",
     "output_type": "stream",
     "text": [
      "We do not know who you are\n"
     ]
    }
   ],
   "source": [
    "# what if the condition has more than two choices?\n",
    "# python if-statments will let you do that with elif\n",
    "# elif stands for \"else if\"\n",
    "user_name = \"Joe\"\n",
    "\n",
    "if user_name == \"Marnee\":\n",
    "    print (\"Marnee likes to program in Python and F#\")\n",
    "elif user_name == \"Frank\":\n",
    "    print (\"Frank does lots of interesting image processing in Python.\")\n",
    "elif user_name == \"Julian\":\n",
    "    print (\"Julian ia an awesome programmer at Cyverse\")\n",
    "else:\n",
    "    print (\"We do not know who you are\")\n",
    "    \n",
    "# for each possibility of user_name we have an if or else-if statment to check the value of the name\n",
    "# and print a message accordingly."
   ]
  },
  {
   "cell_type": "code",
   "execution_count": 19,
   "metadata": {
    "collapsed": true
   },
   "outputs": [],
   "source": [
    "# loops tell a program to do the same thing over and over again until a certain condition is met\n",
    "# we can loop over cellections of things like lists or dictionaries\n",
    "# or we can create a looping structure\n"
   ]
  },
  {
   "cell_type": "code",
   "execution_count": 23,
   "metadata": {
    "collapsed": false
   },
   "outputs": [
    {
     "name": "stdout",
     "output_type": "stream",
     "text": [
      "apple\n",
      "banana\n",
      "mango\n",
      ">>looping>>\n",
      "apple\n",
      "banana\n",
      "mango\n"
     ]
    }
   ],
   "source": [
    "# LOOPING over a collection\n",
    "# LIST\n",
    "\n",
    "# If I want to print a list of fruits, I could write out each print statment like this:\n",
    "print(\"apple\")\n",
    "print(\"banana\")\n",
    "print(\"mango\")\n",
    "\n",
    "# or I could create a list of fruit\n",
    "# loop over the list\n",
    "# and print each item in the list\n",
    "list_of_fruit = [\"apple\", \"banana\", \"mango\"]\n",
    "\n",
    "# this is how we write the loop\n",
    "# \"fruit\" here is a variable that will hold each item in the list, the fruit, as we loop\n",
    "# over the items in the list\n",
    "print (\">>looping>>\")\n",
    "for fruit in list_of_fruit:\n",
    "    print (fruit)"
   ]
  },
  {
   "cell_type": "code",
   "execution_count": 36,
   "metadata": {
    "collapsed": false
   },
   "outputs": [
    {
     "name": "stdout",
     "output_type": "stream",
     "text": [
      "apple price is 0.100000\n",
      "banana price is 0.500000\n",
      "mango price is 0.750000\n"
     ]
    }
   ],
   "source": [
    "# LOOPING over a collection\n",
    "# DICTIONARY\n",
    "\n",
    "# We can do the same thing with a dictionary and each association in the dictionary\n",
    "\n",
    "fruit_price = {\"apple\" : 0.10, \"banana\" : 0.50, \"mango\" : 0.75}\n",
    "for key, value in fruit_price.items():\n",
    "    print (\"%s price is %f\" % (key, value))"
   ]
  },
  {
   "cell_type": "code",
   "execution_count": null,
   "metadata": {
    "collapsed": true
   },
   "outputs": [],
   "source": [
    "# That's it.  With just this page of programming data types, structures, and logic, you can build a program\n",
    "# let's do that next with functions"
   ]
  }
 ],
 "metadata": {
  "kernelspec": {
   "display_name": "Python 3",
   "language": "python",
   "name": "python3"
  },
  "language_info": {
   "codemirror_mode": {
    "name": "ipython",
    "version": 3
   },
   "file_extension": ".py",
   "mimetype": "text/x-python",
   "name": "python",
   "nbconvert_exporter": "python",
   "pygments_lexer": "ipython3",
   "version": "3.6.0"
  }
 },
 "nbformat": 4,
 "nbformat_minor": 2
}
