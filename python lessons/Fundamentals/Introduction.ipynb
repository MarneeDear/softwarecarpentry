{
 "cells": [
  {
   "cell_type": "code",
   "execution_count": 1,
   "metadata": {
    "collapsed": true
   },
   "outputs": [],
   "source": [
    "# What is Python and why would I use it?"
   ]
  },
  {
   "cell_type": "code",
   "execution_count": 4,
   "metadata": {
    "collapsed": true
   },
   "outputs": [],
   "source": [
    "# Python is a programming language.  \n",
    "# A programming language is a set words you can put together to tell a computer to do something.\n",
    "# We like using Python Software Carpentry Workshops for lots of reasons\n",
    "# It is widely used in science\n",
    "# Has a huge supporting community so there are lots of ways to learn and get help\n",
    "# In my experience it is really nice to work with because it is easier to get started than other languages.  \n",
    "# like this Jupyter Notebook.  Not a lot of languages have this kind of thing.  It's great."
   ]
  },
  {
   "cell_type": "code",
   "execution_count": 6,
   "metadata": {
    "collapsed": true
   },
   "outputs": [],
   "source": [
    "# Even if you aren't using Python in your work, you can use Python to learn the fundamentals of programming that will apply\n",
    "# accross languages"
   ]
  },
  {
   "cell_type": "code",
   "execution_count": 8,
   "metadata": {
    "collapsed": true
   },
   "outputs": [],
   "source": [
    "# What are the fundamentals?"
   ]
  },
  {
   "cell_type": "code",
   "execution_count": 9,
   "metadata": {
    "collapsed": true
   },
   "outputs": [],
   "source": [
    "# Data types\n",
    "# characters and numbers\n",
    "# characters: '0' '3' ';' '?' 'x' 'y' 'z'\n",
    "# numbers (integers and decimals): 1 2 3 100 10000 10.0 56.9 -100 -3.765"
   ]
  },
  {
   "cell_type": "code",
   "execution_count": 25,
   "metadata": {
    "collapsed": true
   },
   "outputs": [],
   "source": [
    "# Data structures\n",
    "# strings, lists, dictionaries, and tuples\n"
   ]
  },
  {
   "cell_type": "code",
   "execution_count": 27,
   "metadata": {
    "collapsed": false
   },
   "outputs": [
    {
     "name": "stdout",
     "output_type": "stream",
     "text": [
      "The greeting is, Hello World!\n"
     ]
    }
   ],
   "source": [
    "# STRINGS are one or more characters stung togehter: \"Hello World!\"\n",
    "greeting = \"Hello World!\"\n",
    "print (\"The greeting is, %s\" % greeting)"
   ]
  },
  {
   "cell_type": "code",
   "execution_count": 3,
   "metadata": {
    "collapsed": false
   },
   "outputs": [
    {
     "name": "stdout",
     "output_type": "stream",
     "text": [
      "['a', 'b', 'c']\n",
      "[1, 2, 3, 4]\n",
      "The second value in the list is 2\n"
     ]
    }
   ],
   "source": [
    "# LISTS are collections of things in a list: \n",
    "\n",
    "list_of_characters  = ['a', 'b', 'c'] \n",
    "print (list_of_characters)\n",
    "\n",
    "list_of_numbers = [1, 2, 3, 4]\n",
    "print (list_of_numbers )\n",
    "\n",
    "# We can access any value in the list by it's position in the list.  This is called the index\n",
    "# Indexes start at 0\n",
    "print (\"The second value in the list is %d\" % list_of_numbers[1])"
   ]
  },
  {
   "cell_type": "code",
   "execution_count": 23,
   "metadata": {
    "collapsed": false
   },
   "outputs": [
    {
     "name": "stdout",
     "output_type": "stream",
     "text": [
      "The definition of aardvark is, The aardvark is a medium-sized, burrowing, nocturnal mammal native to Africa.\n",
      "The color at item 2 is green \n"
     ]
    }
   ],
   "source": [
    "# DICTIONARIES are collections of things that you can lookup like in a real dictionary:\n",
    "dictionary_of_definitions = {\"aardvark\" : \"The aardvark is a medium-sized, burrowing, nocturnal mammal native to Africa.\",\n",
    "                             \"boat\" : \"A boat is a thing that floats on water\"}\n",
    "\n",
    "# we can find the definition of aardvark by giving the dictionary the \"key\" to the definition we want.\n",
    "# In this case the key is the word we want to lookup\n",
    "print (\"The definition of aardvark is, %s\" % dictionary_of_definitions[\"aardvark\"]) \n",
    "\n",
    "dictionary_of_colors = {1 : \"purple\", 2 : \"green\", 3 : \"blue\"}\n",
    "# This sets up an association between numbers and colors.  You can do this for any pair or pairs of associations\n",
    "# Sometimes dictionaries are called \"associative arrays\" for this reason.\n",
    "# We call each association a \"key-value pair\".  \n",
    "# A dicitonary can be thought of as a list of associations known as key-value pairs\n",
    "\n",
    "# we can find the color associated with a number by asking the dictionary the number we want to lookup\n",
    "print (\"The color at item 2 is %s \" % dictionary_of_colors[2])\n",
    "\n",
    "# "
   ]
  },
  {
   "cell_type": "code",
   "execution_count": 8,
   "metadata": {
    "collapsed": false
   },
   "outputs": [
    {
     "name": "stdout",
     "output_type": "stream",
     "text": [
      "(3, 4)\n",
      "(1, 7, 38, 9, 0)\n",
      "('strawberry', 'vanilla', 'chocolate')\n",
      "['one']\n",
      "['one', 'two']\n"
     ]
    }
   ],
   "source": [
    "# TUPLES are like sets of values\n",
    "# an example is a set of x and y coordinates like this\n",
    "tuple_of_x_y_coordinates = (3, 4)\n",
    "print (tuple_of_x_y_coordinates)\n",
    "\n",
    "# tuples can have any number of values\n",
    "coordinates = (1, 7, 38, 9, 0)\n",
    "print (coordinates)\n",
    "icecream_flavors = (\"strawberry\", \"vanilla\", \"chocolate\")\n",
    "print (icecream_flavors)\n",
    "\n",
    "# you might be asking, what is the difference between a tuple and a list\n",
    "# Once you have created a list you can add more items to it\n",
    "# Once you have created a tuple, you cannot add more items to it\n",
    "\n",
    "# Let's start with an empty list\n",
    "add_things_list = []\n",
    "add_things_list.append(\"one\")\n",
    "print (add_things_list)\n",
    "add_things_list.append(\"two\")\n",
    "print (add_things_list)"
   ]
  },
  {
   "cell_type": "code",
   "execution_count": null,
   "metadata": {
    "collapsed": true
   },
   "outputs": [],
   "source": []
  }
 ],
 "metadata": {
  "kernelspec": {
   "display_name": "Python 3",
   "language": "python",
   "name": "python3"
  },
  "language_info": {
   "codemirror_mode": {
    "name": "ipython",
    "version": 3
   },
   "file_extension": ".py",
   "mimetype": "text/x-python",
   "name": "python",
   "nbconvert_exporter": "python",
   "pygments_lexer": "ipython3",
   "version": "3.6.0"
  }
 },
 "nbformat": 4,
 "nbformat_minor": 2
}
