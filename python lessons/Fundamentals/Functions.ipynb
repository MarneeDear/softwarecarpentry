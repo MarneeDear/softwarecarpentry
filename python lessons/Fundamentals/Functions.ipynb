{
 "cells": [
  {
   "cell_type": "code",
   "execution_count": 1,
   "metadata": {
    "collapsed": true
   },
   "outputs": [],
   "source": [
    "# Functions in Python are like functions in math\n",
    "# a function will take some values, do something to them or with them, and return a new value\n",
    "# Python functions can take any combination of data types and data structures\n",
    "# and return a single value that can be any data type or data structure"
   ]
  },
  {
   "cell_type": "code",
   "execution_count": 5,
   "metadata": {
    "collapsed": false
   },
   "outputs": [
    {
     "name": "stdout",
     "output_type": "stream",
     "text": [
      "995\n"
     ]
    }
   ],
   "source": [
    "# a simple function that looks like a mathematical function\n",
    "def add_two_numbers(num1, num2): #define a function called add_two_numbers that take 2 arguments: num1 and num2\n",
    "    return num1 + num2 # use the return statment to tell the function what to return\n",
    "\n",
    "print (add_two_numbers(905, 90))"
   ]
  },
  {
   "cell_type": "code",
   "execution_count": 6,
   "metadata": {
    "collapsed": false
   },
   "outputs": [
    {
     "name": "stdout",
     "output_type": "stream",
     "text": [
      "995\n"
     ]
    }
   ],
   "source": [
    "# written a different way\n",
    "def add_two_numbers(num1, num2): #define a function called add_two_numbers that take 2 arguments: num1 and num2\n",
    "    total = num1 + num2\n",
    "    return total # use the return statment to tell the function what to return\n",
    "\n",
    "print (add_two_numbers(905, 90))"
   ]
  },
  {
   "cell_type": "code",
   "execution_count": null,
   "metadata": {
    "collapsed": true
   },
   "outputs": [],
   "source": []
  }
 ],
 "metadata": {
  "kernelspec": {
   "display_name": "Python 3",
   "language": "python",
   "name": "python3"
  },
  "language_info": {
   "codemirror_mode": {
    "name": "ipython",
    "version": 3
   },
   "file_extension": ".py",
   "mimetype": "text/x-python",
   "name": "python",
   "nbconvert_exporter": "python",
   "pygments_lexer": "ipython3",
   "version": "3.6.0"
  }
 },
 "nbformat": 4,
 "nbformat_minor": 2
}
