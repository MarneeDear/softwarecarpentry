{
 "cells": [
  {
   "cell_type": "markdown",
   "metadata": {
    "collapsed": true
   },
   "source": [
    "Functions in Python are like mathematical functions.\n",
    "\n",
    "A function will take some values, do something to them or with them, and return a new value\n",
    "\n",
    "Python functions can take any combination of data types and data structures \n",
    "and return a single value that can be any data type or data structure"
   ]
  },
  {
   "cell_type": "code",
   "execution_count": null,
   "metadata": {
    "collapsed": true
   },
   "outputs": [],
   "source": [
    "# a simple function that looks like a mathematical function\n",
    "def add_two_numbers(num1, num2): #define a function called add_two_numbers that take 2 arguments: num1 and num2\n",
    "    return num1 + num2 # use the return statment to tell the function what to return\n",
    "\n",
    "print (add_two_numbers(905, 90))"
   ]
  },
  {
   "cell_type": "code",
   "execution_count": 6,
   "metadata": {
    "collapsed": false
   },
   "outputs": [
    {
     "name": "stdout",
     "output_type": "stream",
     "text": [
      "995\n"
     ]
    }
   ],
   "source": [
    "# written a different way\n",
    "def add_two_numbers(num1, num2): #define a function called add_two_numbers that take 2 arguments: num1 and num2\n",
    "    total = num1 + num2 # do the stuff\n",
    "    return total # use the return statment to tell the function what to return\n",
    "\n",
    "print (add_two_numbers(905, 90))"
   ]
  },
  {
   "cell_type": "code",
   "execution_count": 7,
   "metadata": {
    "collapsed": true
   },
   "outputs": [],
   "source": [
    "# TESABILITY & REUSABILITY\n",
    "# functions let us break down our programs into smaller bits that can be reused and tested\n",
    "# Why is this important?\n",
    "\n",
    "# TESTABILITY\n",
    "# imagine a really big program with lots of lines of code.  There is a problem somewhere in the code because you are not\n",
    "# getting the results you expect\n",
    "# how do you find it in your code?\n",
    "# if your program is composed of lots of small functions that only do one thing\n",
    "# then you can test each function individually\n",
    "\n",
    "# REUSABILITY\n",
    "# imagine a really big program with lots of lines of code\n",
    "# there is a section of code you want to use in a different part of the program\n",
    "# if you just have one big program then you have to copy and paste that bit of code where you want it to go\n",
    "# but if that bit was a function, you could just use that function\n",
    "\n",
    "# Always keep this in mind when writing programs\n",
    "# Always try to write small functions that do one thing\n",
    "# Your programs should be composed of lots of functions that do one thing\n",
    "# Never have one giant function that does a million things\n",
    "\n",
    "# For example\n",
    "# TODO <Can I think of an example??>"
   ]
  },
  {
   "cell_type": "code",
   "execution_count": null,
   "metadata": {
    "collapsed": true
   },
   "outputs": [],
   "source": []
  }
 ],
 "metadata": {
  "kernelspec": {
   "display_name": "Python 3",
   "language": "python",
   "name": "python3"
  },
  "language_info": {
   "codemirror_mode": {
    "name": "ipython",
    "version": 3
   },
   "file_extension": ".py",
   "mimetype": "text/x-python",
   "name": "python",
   "nbconvert_exporter": "python",
   "pygments_lexer": "ipython3",
   "version": "3.5.1"
  }
 },
 "nbformat": 4,
 "nbformat_minor": 2
}
